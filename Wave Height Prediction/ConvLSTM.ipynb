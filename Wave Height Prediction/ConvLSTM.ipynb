{
 "cells": [
  {
   "cell_type": "code",
   "execution_count": 1,
   "metadata": {},
   "outputs": [],
   "source": [
    "from scipy.io import loadmat\n",
    "\n",
    "# YOU SHOULD HAVE THE FOLLOWING MAT FILE !\n",
    "#3years\n",
    "#Data = loadmat('data/egypt_data/preprocessed data/zeros_shore_data.mat')[\"Values\"]\n",
    "\n",
    "#4years\n",
    "Data = loadmat('data/egypt_data/preprocessed data/all4years_zeros_shore_data.mat')[\"Values\"]"
   ]
  },
  {
   "cell_type": "code",
   "execution_count": 2,
   "metadata": {},
   "outputs": [],
   "source": [
    "area = 30\n",
    "timeSteps = 12"
   ]
  },
  {
   "cell_type": "code",
   "execution_count": 3,
   "metadata": {},
   "outputs": [
    {
     "name": "stdout",
     "output_type": "stream",
     "text": [
      "(11688, 11398, 3)\n",
      "(11688, 139, 82, 3)\n",
      "(11688, 30, 30, 3)\n"
     ]
    }
   ],
   "source": [
    "print(Data.shape)\n",
    "#3years = 8760, 4years = 11688\n",
    "Data = Data.reshape(11688,139,82,3)\n",
    "print(Data.shape)\n",
    "\n",
    "data = Data[:,:area,:area,:]\n",
    "print(data.shape)"
   ]
  },
  {
   "cell_type": "code",
   "execution_count": 4,
   "metadata": {},
   "outputs": [
    {
     "name": "stdout",
     "output_type": "stream",
     "text": [
      "(11688, 30, 30, 3)\n"
     ]
    }
   ],
   "source": [
    "import numpy as np\n",
    "\n",
    "# Assuming your data is in a variable called 'data'\n",
    "# Shape of data: (8760, 139, 82, 3)\n",
    "# Split your data into train, validation and test sets\n",
    "train_data = data[:11000]\n",
    "val_data = data[11000:11400]\n",
    "test_data = data[11400:]\n",
    "print(data.shape)\n",
    "\n",
    "# Prepare your datasets\n",
    "def prepare_data(data, steps):\n",
    "    x, y = [], []\n",
    "    for i in range(len(data)-steps-1):\n",
    "        x.append(data[i:(i+steps)])\n",
    "        y.append(data[i+steps][:,:,0])  # We only want to predict the first feature\n",
    "    return np.array(x), np.array(y)\n",
    "\n",
    "x_train, y_train = prepare_data(train_data, timeSteps)\n",
    "x_val, y_val = prepare_data(val_data, timeSteps)\n",
    "x_test, y_test = prepare_data(test_data, timeSteps)\n"
   ]
  },
  {
   "cell_type": "code",
   "execution_count": 5,
   "metadata": {},
   "outputs": [],
   "source": [
    "#SHUFFLE TRAIN\n",
    "indices = np.arange(x_train.shape[0])\n",
    "np.random.shuffle(indices)\n",
    "x_train = x_train[indices]\n",
    "y_train = y_train[indices]\n",
    "\n",
    "#SHUFFLE VALIDATION\n",
    "indices = np.arange(x_val.shape[0])\n",
    "np.random.shuffle(indices)\n",
    "x_val = x_val[indices]\n",
    "y_val = y_val[indices]\n",
    "\n",
    "#SHUFFLE TEST\n",
    "indices = np.arange(x_test.shape[0])\n",
    "np.random.shuffle(indices)\n",
    "x_test = x_test[indices]\n",
    "y_test = y_test[indices]"
   ]
  },
  {
   "cell_type": "code",
   "execution_count": 9,
   "metadata": {},
   "outputs": [],
   "source": [
    "np.savez('data numpy/train.npz', x_train=x_train, y_train=y_train)\n",
    "np.savez('data numpy/validate.npz', x_val=x_val, y_val=y_val)\n",
    "np.savez('data numpy/test.npz', x_test=x_test, y_test=y_test)"
   ]
  },
  {
   "cell_type": "code",
   "execution_count": 10,
   "metadata": {},
   "outputs": [],
   "source": [
    "import numpy as np\n",
    "#train=np.load('data numpy/train.npz')\n",
    "val=np.load('data numpy/validate.npz')\n",
    "test=np.load('data numpy/test.npz')\n",
    "#x_train, y_train= train['x_train'],train['y_train']\n",
    "x_val, y_val  = val['x_val'],  val['y_val']\n",
    "x_test,y_test = test['x_test'],test['y_test']"
   ]
  },
  {
   "cell_type": "code",
   "execution_count": 11,
   "metadata": {},
   "outputs": [],
   "source": [
    "import numpy as np\n",
    "import tensorflow as tf\n",
    "\n",
    "class DataGenerator(tf.keras.utils.Sequence):\n",
    "    def __init__(self, npz_file, batch_size):\n",
    "        self.npz_file = npz_file\n",
    "        self.batch_size = batch_size\n",
    "        with np.load(npz_file) as data:\n",
    "            self.length = data['x_train'].shape[0]\n",
    "\n",
    "    def __len__(self):\n",
    "        return int(np.ceil(self.length / float(self.batch_size)))\n",
    "\n",
    "    def __getitem__(self, idx):\n",
    "        start = idx * self.batch_size\n",
    "        end = (idx + 1) * self.batch_size\n",
    "        with np.load(self.npz_file) as data:\n",
    "            return data['x_train'][start:end], data['y_train'][start:end]\n"
   ]
  },
  {
   "cell_type": "code",
   "execution_count": 12,
   "metadata": {},
   "outputs": [],
   "source": [
    "train_gen= DataGenerator('data numpy/train.npz', batch_size=16)"
   ]
  },
  {
   "cell_type": "code",
   "execution_count": 13,
   "metadata": {},
   "outputs": [],
   "source": [
    "import tensorflow as tf\n",
    "from tensorflow.keras.models import Sequential\n",
    "from tensorflow.keras.layers import ConvLSTM2D,Conv2D, Flatten, Dense, BatchNormalization,Reshape,Dropout,TimeDistributed,SpatialDropout2D\n",
    "\n",
    "\n",
    "model = Sequential([\n",
    "     ConvLSTM2D(filters=128, kernel_size=(4, 4), activation='elu', padding='same', return_sequences=True,\n",
    "               input_shape=(timeSteps, 30, 30, 3)), \n",
    "     BatchNormalization(),\n",
    "     ConvLSTM2D(filters=64, kernel_size=(3, 3), activation='elu', padding='same',return_sequences=True),\n",
    "     BatchNormalization(),\n",
    "     ConvLSTM2D(filters=32, kernel_size=(2, 2), activation='elu', padding='same'),\n",
    "     BatchNormalization(),\n",
    "     #Flatten(),\n",
    "     #Dense(area*area),\n",
    "     #Reshape((area, area, 1)),\n",
    "     Conv2D(filters=1, kernel_size=(1, 1), activation='linear'),\n",
    "])"
   ]
  },
  {
   "cell_type": "code",
   "execution_count": 14,
   "metadata": {},
   "outputs": [],
   "source": [
    "model.compile(optimizer='adam', loss='mse')"
   ]
  },
  {
   "cell_type": "code",
   "execution_count": 15,
   "metadata": {},
   "outputs": [
    {
     "name": "stdout",
     "output_type": "stream",
     "text": [
      "Epoch 1/10\n",
      "687/687 [==============================] - 1112s 2s/step - loss: 0.7756 - val_loss: 0.0911\n",
      "Epoch 2/10\n",
      "687/687 [==============================] - 1098s 2s/step - loss: 0.0943 - val_loss: 0.0648\n",
      "Epoch 3/10\n",
      "687/687 [==============================] - 1091s 2s/step - loss: 0.0842 - val_loss: 0.1021\n",
      "Epoch 4/10\n",
      "687/687 [==============================] - 1085s 2s/step - loss: 0.0679 - val_loss: 0.0522\n",
      "Epoch 5/10\n",
      "687/687 [==============================] - 1090s 2s/step - loss: 0.0669 - val_loss: 0.0293\n",
      "Epoch 6/10\n",
      "687/687 [==============================] - 1093s 2s/step - loss: 0.0486 - val_loss: 0.1178\n",
      "Epoch 7/10\n",
      "687/687 [==============================] - 1087s 2s/step - loss: 0.0283 - val_loss: 0.0342\n",
      "Epoch 8/10\n",
      "687/687 [==============================] - 1079s 2s/step - loss: 0.0351 - val_loss: 0.0151\n",
      "Epoch 9/10\n",
      "687/687 [==============================] - 1080s 2s/step - loss: 0.0276 - val_loss: 0.0353\n",
      "Epoch 10/10\n",
      "687/687 [==============================] - 1089s 2s/step - loss: 0.0273 - val_loss: 0.0146\n"
     ]
    },
    {
     "data": {
      "text/plain": [
       "<keras.callbacks.History at 0x25711587f10>"
      ]
     },
     "execution_count": 15,
     "metadata": {},
     "output_type": "execute_result"
    }
   ],
   "source": [
    "model.fit(train_gen, epochs=10,verbose = 1, validation_data=(x_val, y_val))"
   ]
  },
  {
   "cell_type": "code",
   "execution_count": 16,
   "metadata": {},
   "outputs": [
    {
     "name": "stdout",
     "output_type": "stream",
     "text": [
      "9/9 [==============================] - 3s 256ms/step - loss: 0.0228\n",
      "Test Loss: 0.022793607786297798\n"
     ]
    }
   ],
   "source": [
    "test_loss = model.evaluate(x_test, y_test)\n",
    "print('Test Loss: {}'.format(test_loss))"
   ]
  },
  {
   "cell_type": "code",
   "execution_count": 17,
   "metadata": {},
   "outputs": [
    {
     "name": "stdout",
     "output_type": "stream",
     "text": [
      "1/1 [==============================] - 1s 737ms/step\n"
     ]
    }
   ],
   "source": [
    "x_try = x_test[0].reshape(1,timeSteps,area,area,3)\n",
    "y_try = y_test[0]\n",
    "y_pred = model.predict(x_try).reshape(area,area)"
   ]
  },
  {
   "cell_type": "code",
   "execution_count": 18,
   "metadata": {},
   "outputs": [
    {
     "name": "stdout",
     "output_type": "stream",
     "text": [
      "(30, 30)\n"
     ]
    }
   ],
   "source": [
    "print(y_pred.shape)"
   ]
  },
  {
   "cell_type": "code",
   "execution_count": 20,
   "metadata": {},
   "outputs": [
    {
     "data": {
      "image/png": "[encoded data removed]",
      "text/plain": [
       "<Figure size 640x480 with 2 Axes>"
      ]
     },
     "metadata": {},
     "output_type": "display_data"
    },
    {
     "data": {
      "image/png": "[encoded data removed]",
      "text/plain": [
       "<Figure size 640x480 with 2 Axes>"
      ]
     },
     "metadata": {},
     "output_type": "display_data"
    }
   ],
   "source": [
    "import matplotlib.pyplot as plt\n",
    "\n",
    "fig, ax = plt.subplots()\n",
    "cax = ax.matshow(y_try)\n",
    "fig.colorbar(cax)\n",
    "plt.show()\n",
    "\n",
    "fig, ax = plt.subplots()\n",
    "cax = ax.matshow(y_pred)\n",
    "fig.colorbar(cax)\n",
    "plt.show()"
   ]
  }
 ],
 "metadata": {
  "kernelspec": {
   "display_name": "tensorflowgpu",
   "language": "python",
   "name": "python3"
  },
  "language_info": {
   "codemirror_mode": {
    "name": "ipython",
    "version": 3
   },
   "file_extension": ".py",
   "mimetype": "text/x-python",
   "name": "python",
   "nbconvert_exporter": "python",
   "pygments_lexer": "ipython3",
   "version": "3.11.4"
  },
  "orig_nbformat": 4
 },
 "nbformat": 4,
 "nbformat_minor": 2
}
