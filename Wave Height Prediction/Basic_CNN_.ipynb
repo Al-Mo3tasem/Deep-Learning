{
 "cells": [
  {
   "cell_type": "code",
   "execution_count": 3,
   "metadata": {},
   "outputs": [],
   "source": [
    "from scipy.io import loadmat\n",
    "\n",
    "# YOU SHOULD HAVE THE FOLLOWING MAT FILE !\n",
    "Data = loadmat('data/egypt_data/preprocessed data/zeros_shore_data.mat')[\"Values\"]"
   ]
  },
  {
   "cell_type": "code",
   "execution_count": null,
   "metadata": {},
   "outputs": [],
   "source": [
    "area = 60"
   ]
  },
  {
   "cell_type": "code",
   "execution_count": 4,
   "metadata": {},
   "outputs": [
    {
     "name": "stdout",
     "output_type": "stream",
     "text": [
      "(8760, 11398, 3)\n",
      "(8760, 139, 82, 3)\n",
      "(8760, 60, 60, 3)\n"
     ]
    }
   ],
   "source": [
    "print(Data.shape)\n",
    "Data = Data.reshape(8760,139,82,3)\n",
    "print(Data.shape)\n",
    "\n",
    "data = Data[:,:area,:area,:]\n",
    "print(data.shape)"
   ]
  },
  {
   "cell_type": "code",
   "execution_count": 5,
   "metadata": {},
   "outputs": [
    {
     "name": "stdout",
     "output_type": "stream",
     "text": [
      "(8760, 60, 60, 3)\n"
     ]
    }
   ],
   "source": [
    "import numpy as np\n",
    "\n",
    "# Assuming your data is in a variable called 'data'\n",
    "# Shape of data: (8760, 139, 82, 3)\n",
    "# Split your data into train, validation and test sets\n",
    "train_data = data[:8000]\n",
    "val_data = data[8000:8500]\n",
    "test_data = data[8500:]\n",
    "print(data.shape)\n",
    "\n",
    "# Prepare your datasets\n",
    "def prepare_data(data, steps):\n",
    "    x, y = [], []\n",
    "    for i in range(len(data)-steps-1):\n",
    "        x.append(data[i:(i+steps)])\n",
    "        y.append(data[i+steps][:,:,0])  # We only want to predict the first feature\n",
    "    return np.array(x), np.array(y)\n",
    "\n",
    "x_train, y_train = prepare_data(train_data, 16)\n",
    "x_val, y_val = prepare_data(val_data, 16)\n",
    "x_test, y_test = prepare_data(test_data, 16)\n",
    "\n"
   ]
  },
  {
   "cell_type": "code",
   "execution_count": 6,
   "metadata": {},
   "outputs": [],
   "source": [
    "import tensorflow as tf\n",
    "from tensorflow.keras.models import Sequential\n",
    "from tensorflow.keras.layers import ConvLSTM2D, Flatten, Dense\n",
    "\n",
    "\n"
   ]
  },
  {
   "cell_type": "code",
   "execution_count": 7,
   "metadata": {},
   "outputs": [],
   "source": [
    "model = Sequential()\n",
    "model.add(ConvLSTM2D(filters=64, kernel_size=(3,3), activation='relu', input_shape=(16, area, area, 3)))\n",
    "model.add(Flatten())\n",
    "model.add(Dense(60*60))\n",
    "model.add(tf.keras.layers.Reshape((area, area)))"
   ]
  },
  {
   "cell_type": "code",
   "execution_count": 10,
   "metadata": {},
   "outputs": [],
   "source": [
    "model.compile(optimizer='adam', loss='mse')"
   ]
  },
  {
   "cell_type": "code",
   "execution_count": 11,
   "metadata": {},
   "outputs": [
    {
     "name": "stdout",
     "output_type": "stream",
     "text": [
      "Epoch 1/10\n",
      "250/250 [==============================] - 11441s 46s/step - loss: 1.1489 - val_loss: 0.0077\n",
      "Epoch 2/10\n",
      "250/250 [==============================] - 3140s 13s/step - loss: 0.0097 - val_loss: 0.0056\n",
      "Epoch 3/10\n",
      "250/250 [==============================] - 3191s 13s/step - loss: 0.0082 - val_loss: 0.0046\n",
      "Epoch 4/10\n",
      "250/250 [==============================] - 3241s 13s/step - loss: 0.0074 - val_loss: 0.0041\n",
      "Epoch 5/10\n",
      "250/250 [==============================] - 3162s 13s/step - loss: 0.0073 - val_loss: 0.0043\n",
      "Epoch 6/10\n",
      "250/250 [==============================] - 3224s 13s/step - loss: 0.0068 - val_loss: 0.0036\n",
      "Epoch 7/10\n",
      "250/250 [==============================] - 3513s 14s/step - loss: 0.0070 - val_loss: 0.0050\n",
      "Epoch 8/10\n",
      "250/250 [==============================] - 3352s 13s/step - loss: 0.0068 - val_loss: 0.0036\n",
      "Epoch 9/10\n",
      "250/250 [==============================] - 3353s 13s/step - loss: 0.0064 - val_loss: 0.0038\n",
      "Epoch 10/10\n",
      "250/250 [==============================] - 3330s 13s/step - loss: 0.0063 - val_loss: 0.0037\n"
     ]
    },
    {
     "data": {
      "text/plain": [
       "<keras.src.callbacks.History at 0x130e69e7510>"
      ]
     },
     "execution_count": 11,
     "metadata": {},
     "output_type": "execute_result"
    }
   ],
   "source": [
    "model.fit(x_train, y_train, epochs=10, verbose=1, validation_data=(x_val, y_val))\n"
   ]
  },
  {
   "cell_type": "markdown",
   "metadata": {},
   "source": []
  },
  {
   "cell_type": "code",
   "execution_count": 12,
   "metadata": {},
   "outputs": [],
   "source": [
    "model.save('Egypt models/Simple_ConvLSTM.keras')"
   ]
  },
  {
   "cell_type": "code",
   "execution_count": 8,
   "metadata": {},
   "outputs": [],
   "source": [
    "from tensorflow import keras\n",
    "model = keras.models.load_model('Egypt models/Simple_ConvLSTM.keras')\n"
   ]
  },
  {
   "cell_type": "code",
   "execution_count": 9,
   "metadata": {},
   "outputs": [
    {
     "name": "stdout",
     "output_type": "stream",
     "text": [
      "8/8 [==============================] - 9s 1s/step - loss: 0.0083\n",
      "Test Loss: 0.008301233872771263\n"
     ]
    }
   ],
   "source": [
    "test_loss = model.evaluate(x_test, y_test)\n",
    "print('Test Loss: {}'.format(test_loss))"
   ]
  },
  {
   "cell_type": "code",
   "execution_count": 10,
   "metadata": {},
   "outputs": [
    {
     "name": "stdout",
     "output_type": "stream",
     "text": [
      "(16, 60, 60, 3)\n"
     ]
    }
   ],
   "source": [
    "print(x_test[0].shape)"
   ]
  },
  {
   "cell_type": "code",
   "execution_count": 12,
   "metadata": {},
   "outputs": [
    {
     "name": "stdout",
     "output_type": "stream",
     "text": [
      "1/1 [==============================] - 0s 217ms/step\n"
     ]
    }
   ],
   "source": [
    "x_try = x_test[0].reshape(1,16,area,area,3)\n",
    "y_try = y_test[0]\n",
    "y_pred = model.predict(x_try).reshape(area,area)"
   ]
  },
  {
   "cell_type": "code",
   "execution_count": 13,
   "metadata": {},
   "outputs": [
    {
     "name": "stdout",
     "output_type": "stream",
     "text": [
      "(60, 60)\n"
     ]
    }
   ],
   "source": [
    "print(y_pred.shape)"
   ]
  },
  {
   "cell_type": "code",
   "execution_count": 18,
   "metadata": {},
   "outputs": [
    {
     "data": {
      "image/png": "[encoded data removed]",
      "text/plain": [
       "<Figure size 640x480 with 2 Axes>"
      ]
     },
     "metadata": {},
     "output_type": "display_data"
    },
    {
     "data": {
      "image/png": "[encoded data removed]",
      "text/plain": [
       "<Figure size 640x480 with 2 Axes>"
      ]
     },
     "metadata": {},
     "output_type": "display_data"
    }
   ],
   "source": [
    "import matplotlib.pyplot as plt\n",
    "\n",
    "fig, ax = plt.subplots()\n",
    "cax = ax.matshow(y_try)\n",
    "fig.colorbar(cax)\n",
    "plt.show()\n",
    "\n",
    "fig, ax = plt.subplots()\n",
    "cax = ax.matshow(y_pred)\n",
    "fig.colorbar(cax)\n",
    "plt.show()"
   ]
  }
 ],
 "metadata": {
  "kernelspec": {
   "display_name": "Python 3",
   "language": "python",
   "name": "python3"
  },
  "language_info": {
   "codemirror_mode": {
    "name": "ipython",
    "version": 3
   },
   "file_extension": ".py",
   "mimetype": "text/x-python",
   "name": "python",
   "nbconvert_exporter": "python",
   "pygments_lexer": "ipython3",
   "version": "3.11.4"
  },
  "orig_nbformat": 4
 },
 "nbformat": 4,
 "nbformat_minor": 2
}
