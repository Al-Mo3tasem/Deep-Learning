{
 "cells": [
  {
   "cell_type": "code",
   "execution_count": 32,
   "metadata": {},
   "outputs": [],
   "source": [
    "import numpy as np\n",
    "import tensorflow as tf\n",
    "from scipy.io import loadmat\n",
    "from tensorflow.keras.models import Model\n",
    "from tensorflow.keras.layers import Input\n",
    "from tensorflow.keras.layers import Conv3D\n",
    "from tensorflow.keras.layers import Conv2D\n",
    "from tensorflow.keras.layers import MaxPooling3D\n",
    "from tensorflow.keras.layers import MaxPooling2D\n",
    "from tensorflow.keras.layers import Dropout \n",
    "from tensorflow.keras.layers import UpSampling3D\n",
    "from tensorflow.keras.layers import UpSampling2D\n",
    "from tensorflow.keras.layers import concatenate\n",
    "from tensorflow.keras.models import Sequential\n",
    "from tensorflow.keras.layers import ConvLSTM2D\n",
    "from tensorflow.keras.layers import Flatten\n",
    "from tensorflow.keras.layers import Dense\n",
    "from tensorflow.keras.layers import Conv2DTranspose\n",
    "from tensorflow.keras.layers import TimeDistributed\n",
    "from tensorflow import keras\n",
    "import matplotlib.pyplot as plt"
   ]
  },
  {
   "cell_type": "code",
   "execution_count": 10,
   "metadata": {},
   "outputs": [],
   "source": [
    "Data = loadmat('data/egypt_data/preprocessed data/all4years_zeros_shore_data.mat')[\"Values\"]"
   ]
  },
  {
   "cell_type": "code",
   "execution_count": 3,
   "metadata": {},
   "outputs": [],
   "source": [
    "area = 60\n",
    "timeSteps= 16"
   ]
  },
  {
   "cell_type": "code",
   "execution_count": 12,
   "metadata": {},
   "outputs": [
    {
     "name": "stdout",
     "output_type": "stream",
     "text": [
      "(11688, 11398, 3)\n",
      "(11688, 139, 82, 3)\n",
      "(11688, 60, 60, 3)\n"
     ]
    }
   ],
   "source": [
    "print(Data.shape)\n",
    "#3years = 8760, 4years = 11688\n",
    "Data = Data.reshape(11688,139,82,3)\n",
    "print(Data.shape)\n",
    "\n",
    "data = Data[:,:area,:area,:]\n",
    "print(data.shape)"
   ]
  },
  {
   "cell_type": "code",
   "execution_count": 13,
   "metadata": {},
   "outputs": [
    {
     "name": "stdout",
     "output_type": "stream",
     "text": [
      "(11688, 60, 60, 3)\n"
     ]
    }
   ],
   "source": [
    "train_data = data[:10000]\n",
    "val_data = data[10000:11000]\n",
    "test_data = data[11000:]\n",
    "print(data.shape)\n",
    "\n",
    "\n",
    "def prepare_data(data, steps):\n",
    "    x, y = [], []\n",
    "    for i in range(len(data)-steps-1):\n",
    "        x.append(data[i:(i+steps)])\n",
    "        y.append(data[i+steps][:,:,0])  # I WILL PREDICT FEATURE 0 ONLY(HEIGHT)\n",
    "    return np.array(x), np.array(y)\n",
    "\n",
    "x_train, y_train = prepare_data(train_data, 16)\n",
    "x_val, y_val = prepare_data(val_data, 16)\n",
    "x_test, y_test = prepare_data(test_data, 16)\n",
    "\n"
   ]
  },
  {
   "cell_type": "code",
   "execution_count": 33,
   "metadata": {},
   "outputs": [],
   "source": [
    "def unet_model(input_shape):\n",
    "    inputs = Input(input_shape)\n",
    "    \n",
    "    #DOWN > i used TimeDistributed to handle sequence\n",
    "    conv1 = TimeDistributed(Conv2D(64, (3, 3), activation='relu', padding='same'))(inputs)\n",
    "    pool1 = TimeDistributed(MaxPooling2D(pool_size=(2, 2)))(conv1)\n",
    "\n",
    "    conv2 = TimeDistributed(Conv2D(128, (3, 3), activation='relu', padding='same'))(pool1)\n",
    "    pool2 = TimeDistributed(MaxPooling2D(pool_size=(2, 2)))(conv2)\n",
    "\n",
    "    #BOTTLENECK (i used ConvLSTM2D to handle sequences and reduce time dimension to 1 because i want to predict one time step ahead)\n",
    "    convm = ConvLSTM2D(256, (3, 3), activation='relu', padding='same', return_sequences=False)(pool2)\n",
    "\n",
    "    #uPSAMPLING\n",
    "    up2 = concatenate([Conv2DTranspose(128, (2, 2), strides=(2, 2), padding='same')(convm), conv2[:, -1]], axis=-1)\n",
    "    conv4 = Conv2D(128, (3, 3), activation='relu', padding='same')(up2)\n",
    "\n",
    "    up1 = concatenate([Conv2DTranspose(64, (2, 2), strides=(2, 2), padding='same')(conv4), conv1[:, -1]], axis=-1)\n",
    "    conv5 = Conv2D(64, (3, 3), activation='relu', padding='same')(up1)\n",
    "\n",
    "    output = Conv2D(1, (1, 1), activation='linear')(conv5)\n",
    "\n",
    "    model = Model(inputs=[inputs], outputs=[output])\n",
    "    \n",
    "    return model"
   ]
  },
  {
   "cell_type": "code",
   "execution_count": 35,
   "metadata": {},
   "outputs": [],
   "source": [
    "input_shape = x_train.shape[1:]\n",
    "model = unet_model(input_shape)"
   ]
  },
  {
   "cell_type": "code",
   "execution_count": 36,
   "metadata": {},
   "outputs": [],
   "source": [
    "model.compile(optimizer='adam', loss='mse')"
   ]
  },
  {
   "cell_type": "code",
   "execution_count": 37,
   "metadata": {},
   "outputs": [
    {
     "name": "stdout",
     "output_type": "stream",
     "text": [
      "Epoch 1/4\n",
      "312/312 [==============================] - 1673s 5s/step - loss: 0.0159 - val_loss: 0.0034\n",
      "Epoch 2/4\n",
      "312/312 [==============================] - 1699s 5s/step - loss: 0.0074 - val_loss: 0.0035\n",
      "Epoch 3/4\n",
      "312/312 [==============================] - 1690s 5s/step - loss: 0.0064 - val_loss: 0.0038\n",
      "Epoch 4/4\n",
      "312/312 [==============================] - 1835s 6s/step - loss: 0.0067 - val_loss: 0.0059\n"
     ]
    },
    {
     "data": {
      "text/plain": [
       "<keras.src.callbacks.History at 0x28748a9d0d0>"
      ]
     },
     "execution_count": 37,
     "metadata": {},
     "output_type": "execute_result"
    }
   ],
   "source": [
    "model.fit(x_train, y_train, epochs=4, verbose=1, validation_data=(x_val, y_val))\n"
   ]
  },
  {
   "cell_type": "code",
   "execution_count": 4,
   "metadata": {},
   "outputs": [],
   "source": [
    "model.save(f'Egypt models/Simple_UNet_{area}.keras')"
   ]
  },
  {
   "cell_type": "code",
   "execution_count": 1,
   "metadata": {},
   "outputs": [],
   "source": [
    "from tensorflow import keras\n",
    "model = keras.models.load_model('Egypt models/Simple_UNet_60.keras')"
   ]
  },
  {
   "cell_type": "code",
   "execution_count": 40,
   "metadata": {},
   "outputs": [
    {
     "name": "stdout",
     "output_type": "stream",
     "text": [
      "21/21 [==============================] - 30s 1s/step - loss: 0.0087\n",
      "Test Loss: 0.008735363371670246\n"
     ]
    }
   ],
   "source": [
    "test_loss = model.evaluate(x_test, y_test)\n",
    "print('Test Loss: {}'.format(test_loss))"
   ]
  },
  {
   "cell_type": "code",
   "execution_count": 41,
   "metadata": {},
   "outputs": [
    {
     "name": "stdout",
     "output_type": "stream",
     "text": [
      "1/1 [==============================] - 0s 484ms/step\n"
     ]
    }
   ],
   "source": [
    "x_try = x_test[0].reshape(1,16,area,area,3)\n",
    "y_try = y_test[0]\n",
    "y_pred = model.predict(x_try).reshape(area,area)"
   ]
  },
  {
   "cell_type": "code",
   "execution_count": 42,
   "metadata": {},
   "outputs": [
    {
     "data": {
      "image/png": "[encoded data removed]",
      "text/plain": [
       "<Figure size 640x480 with 2 Axes>"
      ]
     },
     "metadata": {},
     "output_type": "display_data"
    },
    {
     "data": {
      "image/png": "[encoded data removed]",
      "text/plain": [
       "<Figure size 640x480 with 2 Axes>"
      ]
     },
     "metadata": {},
     "output_type": "display_data"
    }
   ],
   "source": [
    "fig, ax = plt.subplots()\n",
    "cax = ax.matshow(y_try)\n",
    "fig.colorbar(cax)\n",
    "plt.show()\n",
    "\n",
    "fig, ax = plt.subplots()\n",
    "cax = ax.matshow(y_pred)\n",
    "fig.colorbar(cax)\n",
    "plt.show()"
   ]
  }
 ],
 "metadata": {
  "kernelspec": {
   "display_name": "Python 3",
   "language": "python",
   "name": "python3"
  },
  "language_info": {
   "codemirror_mode": {
    "name": "ipython",
    "version": 3
   },
   "file_extension": ".py",
   "mimetype": "text/x-python",
   "name": "python",
   "nbconvert_exporter": "python",
   "pygments_lexer": "ipython3",
   "version": "3.11.4"
  },
  "orig_nbformat": 4
 },
 "nbformat": 4,
 "nbformat_minor": 2
}
