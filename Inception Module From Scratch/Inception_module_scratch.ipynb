{
 "cells": [
  {
   "cell_type": "code",
   "execution_count": 13,
   "metadata": {},
   "outputs": [],
   "source": [
    "import tensorflow as tf\n",
    "from tensorflow.keras.preprocessing.image import ImageDataGenerator\n",
    "from tensorflow.keras.layers import Conv2D, MaxPooling2D, Concatenate, Flatten, Dense\n",
    "from tensorflow.keras.models import Model"
   ]
  },
  {
   "cell_type": "code",
   "execution_count": 34,
   "metadata": {},
   "outputs": [
    {
     "name": "stdout",
     "output_type": "stream",
     "text": [
      "Found 368 images belonging to 9 classes.\n"
     ]
    }
   ],
   "source": [
    "datagen = ImageDataGenerator(rescale=1./255)\n",
    "\n",
    "data_dir = 'D:/MO3 LAP/Datasets/High_Fruits'\n",
    "data = datagen.flow_from_directory(data_dir, target_size=(140,140))"
   ]
  },
  {
   "cell_type": "code",
   "execution_count": 35,
   "metadata": {},
   "outputs": [],
   "source": [
    "inputs = tf.keras.Input(shape=(140,140,3))\n",
    "\n",
    "inception_input= Conv2D(192, kernel_size=(4, 4), strides=(5, 5), padding='same', name='inception_input')(inputs)\n",
    "\n",
    "#--Inception module--\n",
    "branch1 = Conv2D(64, (1, 1), padding='same', activation='relu', name='branch_1')(inception_input)\n",
    "\n",
    "branch2 = Conv2D(96, (1, 1), padding='same', activation='relu', name='branch_2_start')(inception_input)\n",
    "branch2 = Conv2D(128, (3, 3), padding='same', activation='relu',name='branch_2_end')(branch2)\n",
    "\n",
    "branch3 = Conv2D(16, (1, 1), padding='same', activation='relu',name='branch_3_start')(inception_input)\n",
    "branch3 = Conv2D(32, (5, 5), padding='same', activation='relu',name='branch_3_end')(branch3)\n",
    "\n",
    "branch4 = MaxPooling2D((3, 3), strides=(1, 1), padding='same',name='branch_4_start')(inception_input)\n",
    "branch4 = Conv2D(32, (1, 1), padding='same', activation='relu',name='branch_4_end')(branch4)\n",
    "\n",
    "inception_output = Concatenate(name='concatenator')([branch1,branch2,branch3,branch4])\n",
    "\n",
    "flattened_inception_output = Flatten()(inception_output)\n",
    "outputs = Dense(9, activation='softmax')(flattened_inception_output)\n",
    "\n",
    "model = Model(inputs=inputs, outputs=outputs)"
   ]
  },
  {
   "cell_type": "code",
   "execution_count": 31,
   "metadata": {},
   "outputs": [
    {
     "name": "stdout",
     "output_type": "stream",
     "text": [
      "Model: \"model_5\"\n",
      "__________________________________________________________________________________________________\n",
      " Layer (type)                Output Shape                 Param #   Connected to                  \n",
      "==================================================================================================\n",
      " input_9 (InputLayer)        [(None, 140, 140, 3)]        0         []                            \n",
      "                                                                                                  \n",
      " inception_input (Conv2D)    (None, 28, 28, 192)          9408      ['input_9[0][0]']             \n",
      "                                                                                                  \n",
      " branch_2_start (Conv2D)     (None, 28, 28, 96)           18528     ['inception_input[0][0]']     \n",
      "                                                                                                  \n",
      " branch_3_start (Conv2D)     (None, 28, 28, 16)           3088      ['inception_input[0][0]']     \n",
      "                                                                                                  \n",
      " branch_4_start (MaxPooling  (None, 28, 28, 192)          0         ['inception_input[0][0]']     \n",
      " 2D)                                                                                              \n",
      "                                                                                                  \n",
      " branch_1 (Conv2D)           (None, 28, 28, 64)           12352     ['inception_input[0][0]']     \n",
      "                                                                                                  \n",
      " branch_2_end (Conv2D)       (None, 28, 28, 128)          110720    ['branch_2_start[0][0]']      \n",
      "                                                                                                  \n",
      " branch_3_end (Conv2D)       (None, 28, 28, 32)           12832     ['branch_3_start[0][0]']      \n",
      "                                                                                                  \n",
      " branch_4_end (Conv2D)       (None, 28, 28, 32)           6176      ['branch_4_start[0][0]']      \n",
      "                                                                                                  \n",
      " concatenator (Concatenate)  (None, 28, 28, 256)          0         ['branch_1[0][0]',            \n",
      "                                                                     'branch_2_end[0][0]',        \n",
      "                                                                     'branch_3_end[0][0]',        \n",
      "                                                                     'branch_4_end[0][0]']        \n",
      "                                                                                                  \n",
      " flatten_5 (Flatten)         (None, 200704)               0         ['concatenator[0][0]']        \n",
      "                                                                                                  \n",
      " dense_5 (Dense)             (None, 9)                    1806345   ['flatten_5[0][0]']           \n",
      "                                                                                                  \n",
      "==================================================================================================\n",
      "Total params: 1979449 (7.55 MB)\n",
      "Trainable params: 1979449 (7.55 MB)\n",
      "Non-trainable params: 0 (0.00 Byte)\n",
      "__________________________________________________________________________________________________\n"
     ]
    }
   ],
   "source": [
    "model.summary()"
   ]
  },
  {
   "cell_type": "code",
   "execution_count": 36,
   "metadata": {},
   "outputs": [],
   "source": [
    "model.compile(optimizer='adam', loss='categorical_crossentropy',metrics='accuracy')"
   ]
  },
  {
   "cell_type": "code",
   "execution_count": 37,
   "metadata": {},
   "outputs": [
    {
     "name": "stdout",
     "output_type": "stream",
     "text": [
      "Epoch 1/10\n",
      "12/12 [==============================] - 6s 478ms/step - loss: 3.1304 - accuracy: 0.2120\n",
      "Epoch 2/10\n",
      "12/12 [==============================] - 6s 488ms/step - loss: 1.5659 - accuracy: 0.4185\n",
      "Epoch 3/10\n",
      "12/12 [==============================] - 6s 498ms/step - loss: 1.1141 - accuracy: 0.6250\n",
      "Epoch 4/10\n",
      "12/12 [==============================] - 6s 467ms/step - loss: 0.8418 - accuracy: 0.7174\n",
      "Epoch 5/10\n",
      "12/12 [==============================] - 6s 482ms/step - loss: 0.6455 - accuracy: 0.7826\n",
      "Epoch 6/10\n",
      "12/12 [==============================] - 6s 468ms/step - loss: 0.4697 - accuracy: 0.8641\n",
      "Epoch 7/10\n",
      "12/12 [==============================] - 6s 485ms/step - loss: 0.3035 - accuracy: 0.9185\n",
      "Epoch 8/10\n",
      "12/12 [==============================] - 6s 462ms/step - loss: 0.1790 - accuracy: 0.9565\n",
      "Epoch 9/10\n",
      "12/12 [==============================] - 6s 477ms/step - loss: 0.0791 - accuracy: 0.9864\n",
      "Epoch 10/10\n",
      "12/12 [==============================] - 6s 484ms/step - loss: 0.0421 - accuracy: 0.9946\n"
     ]
    },
    {
     "data": {
      "text/plain": [
       "<keras.src.callbacks.History at 0x1b7865adbd0>"
      ]
     },
     "execution_count": 37,
     "metadata": {},
     "output_type": "execute_result"
    }
   ],
   "source": [
    "model.fit(data, epochs=10)"
   ]
  }
 ],
 "metadata": {
  "kernelspec": {
   "display_name": "Python 3",
   "language": "python",
   "name": "python3"
  },
  "language_info": {
   "codemirror_mode": {
    "name": "ipython",
    "version": 3
   },
   "file_extension": ".py",
   "mimetype": "text/x-python",
   "name": "python",
   "nbconvert_exporter": "python",
   "pygments_lexer": "ipython3",
   "version": "3.11.4"
  }
 },
 "nbformat": 4,
 "nbformat_minor": 2
}
