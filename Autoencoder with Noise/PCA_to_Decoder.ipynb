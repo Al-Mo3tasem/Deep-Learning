{
 "cells": [
  {
   "cell_type": "markdown",
   "metadata": {},
   "source": [
    "Libraries\n",
    "="
   ]
  },
  {
   "cell_type": "code",
   "execution_count": 1,
   "metadata": {},
   "outputs": [],
   "source": [
    "import os\n",
    "import numpy as np\n",
    "from PIL import Image\n",
    "from sklearn.decomposition import PCA\n",
    "from keras.layers  import Input, Reshape, Conv2DTranspose, BatchNormalization, ReLU\n",
    "import tensorflow as tf\n",
    "from tensorflow.keras.models import load_model,Model\n",
    "from tensorflow.keras.losses import MeanSquaredLogarithmicError\n",
    "from tensorflow.keras.optimizers import Adam\n",
    "import matplotlib.pyplot as plt\n",
    "\n",
    "\n"
   ]
  },
  {
   "cell_type": "markdown",
   "metadata": {},
   "source": [
    "Noiser\n",
    "="
   ]
  },
  {
   "cell_type": "code",
   "execution_count": 2,
   "metadata": {},
   "outputs": [],
   "source": [
    "def noiser(data, noise_factor=1.5):\n",
    "    noise = np.random.normal(loc=0.0, scale=0.1, size=data.shape).astype(np.float32)\n",
    "    data = data + noise_factor * noise\n",
    "    data = np.clip(data, 0., 1.)\n",
    "    return data"
   ]
  },
  {
   "cell_type": "markdown",
   "metadata": {},
   "source": [
    "Data Loader\n",
    "="
   ]
  },
  {
   "cell_type": "code",
   "execution_count": 3,
   "metadata": {},
   "outputs": [],
   "source": [
    "def load_images(path):\n",
    "    images = []\n",
    "    count = 0  # Counter for folders\n",
    "    for subdir, dirs, files in os.walk(path):\n",
    "        if count >= 100:  # If 20 folders have been processed, break the loop\n",
    "            break\n",
    "        for file in files:\n",
    "            file_path = os.path.join(subdir, file)\n",
    "            image = Image.open(file_path)\n",
    "            image = image.resize((64, 64))\n",
    "            image = np.array(image) / 255.0  # Normalize pixel values\n",
    "            images.append(image)\n",
    "        count += 1  # Increment the counter when all files in a folder have been processed\n",
    "    return np.array(images)\n"
   ]
  },
  {
   "cell_type": "markdown",
   "metadata": {},
   "source": [
    "Load data\n",
    "="
   ]
  },
  {
   "cell_type": "code",
   "execution_count": 4,
   "metadata": {},
   "outputs": [],
   "source": [
    "train_dir = 'D:/MO3 LAP/Datasets/Birds_525_Species/train'\n",
    "test_dir = 'D:/MO3 LAP/Datasets/Birds_525_Species/test'  \n",
    "val_dir = 'D:/MO3 LAP/Datasets/Birds_525_Species/valid'\n",
    "train_images = load_images(train_dir)\n",
    "test_images = load_images(test_dir)\n",
    "val_images = load_images(val_dir)"
   ]
  },
  {
   "cell_type": "markdown",
   "metadata": {},
   "source": [
    "Look at some shapes\n",
    "="
   ]
  },
  {
   "cell_type": "code",
   "execution_count": 5,
   "metadata": {},
   "outputs": [
    {
     "name": "stdout",
     "output_type": "stream",
     "text": [
      "(15574, 64, 64, 3)\n",
      "(495, 64, 64, 3)\n",
      "(495, 64, 64, 3)\n"
     ]
    }
   ],
   "source": [
    "print(train_images.shape)\n",
    "print(test_images.shape)\n",
    "print(val_images.shape)\n"
   ]
  },
  {
   "cell_type": "markdown",
   "metadata": {},
   "source": [
    "Add noise\n",
    "="
   ]
  },
  {
   "cell_type": "code",
   "execution_count": 6,
   "metadata": {},
   "outputs": [],
   "source": [
    "noisy_train_images = np.array([noiser(img) for img in train_images])\n",
    "noisy_test_images = np.array([noiser(img) for img in test_images])\n",
    "noisy_val_images = np.array([noiser(img) for img in val_images])"
   ]
  },
  {
   "cell_type": "markdown",
   "metadata": {},
   "source": [
    "Flatten images as feature vector to apply PCA on it\n",
    "="
   ]
  },
  {
   "cell_type": "code",
   "execution_count": 7,
   "metadata": {},
   "outputs": [],
   "source": [
    "flattened__train_images = noisy_train_images.reshape(-1,64*64*3)\n",
    "flattened__test_images = noisy_test_images.reshape(-1,64*64*3)\n",
    "flattened__val_images = noisy_val_images.reshape(-1,64*64*3)"
   ]
  },
  {
   "cell_type": "markdown",
   "metadata": {},
   "source": [
    "Appling PCA\n",
    "= "
   ]
  },
  {
   "cell_type": "code",
   "execution_count": 8,
   "metadata": {},
   "outputs": [],
   "source": [
    "pca= PCA(n_components=2*2*64) \n",
    "pca_train_codes=pca.fit_transform(flattened__train_images)\n"
   ]
  },
  {
   "cell_type": "code",
   "execution_count": 9,
   "metadata": {},
   "outputs": [],
   "source": [
    "pca2= PCA(n_components=2*2*64) \n",
    "pca_test_codes=pca2.fit_transform(flattened__test_images)"
   ]
  },
  {
   "cell_type": "code",
   "execution_count": 10,
   "metadata": {},
   "outputs": [],
   "source": [
    "pca3= PCA(n_components=2*2*64) \n",
    "pca_val_codes=pca3.fit_transform(flattened__val_images)"
   ]
  },
  {
   "cell_type": "markdown",
   "metadata": {},
   "source": [
    "Reshape PCA codes to fit in Decoders' conv layers\n",
    "= "
   ]
  },
  {
   "cell_type": "code",
   "execution_count": 11,
   "metadata": {},
   "outputs": [
    {
     "data": {
      "text/plain": [
       "(495, 2, 2, 64)"
      ]
     },
     "execution_count": 11,
     "metadata": {},
     "output_type": "execute_result"
    }
   ],
   "source": [
    "pca_train_codes=pca_train_codes.reshape(-1,2,2,64)\n",
    "pca_val_codes=pca_val_codes.reshape(-1,2,2,64)\n",
    "pca_test_codes=pca_test_codes.reshape(-1,2,2,64)\n",
    "\n",
    "pca_val_codes.shape"
   ]
  },
  {
   "cell_type": "markdown",
   "metadata": {},
   "source": [
    "Define Decoder\n",
    "="
   ]
  },
  {
   "cell_type": "code",
   "execution_count": 12,
   "metadata": {},
   "outputs": [],
   "source": [
    "# Define deconvolutional block\n",
    "def deconv_block(x, filters, kernel_size):\n",
    "    x = Conv2DTranspose(filters=filters, kernel_size=kernel_size, strides=2, padding='same')(x)\n",
    "    x = BatchNormalization()(x)\n",
    "    x = ReLU()(x)\n",
    "    return x\n",
    "\n",
    "def build_decoder(output_shape):\n",
    "    inputs = Input(shape=output_shape)\n",
    "\n",
    "   #x = deconv_block(inputs, 512, 3)  # Additional layer\n",
    "    x = deconv_block(inputs, 256, 3)  # Additional layer\n",
    "    x = deconv_block(x, 128, 3)\n",
    "    x = deconv_block(x, 64, 3)\n",
    "    x = deconv_block(x, 32, 3)\n",
    "    x = deconv_block(x, 3, 3)  # 3 channels for RGB images\n",
    "\n",
    "    return Model(inputs, x, name='decoder')"
   ]
  },
  {
   "cell_type": "markdown",
   "metadata": {},
   "source": [
    "Build the Decoder\n",
    "="
   ]
  },
  {
   "cell_type": "code",
   "execution_count": 13,
   "metadata": {},
   "outputs": [],
   "source": [
    "decoder = build_decoder((2,2,64)) "
   ]
  },
  {
   "cell_type": "markdown",
   "metadata": {},
   "source": [
    "Look at Decoder summary\n",
    "="
   ]
  },
  {
   "cell_type": "code",
   "execution_count": 14,
   "metadata": {},
   "outputs": [
    {
     "name": "stdout",
     "output_type": "stream",
     "text": [
      "Model: \"decoder\"\n",
      "_________________________________________________________________\n",
      " Layer (type)                Output Shape              Param #   \n",
      "=================================================================\n",
      " input_1 (InputLayer)        [(None, 2, 2, 64)]        0         \n",
      "                                                                 \n",
      " conv2d_transpose (Conv2DTra  (None, 4, 4, 256)        147712    \n",
      " nspose)                                                         \n",
      "                                                                 \n",
      " batch_normalization (BatchN  (None, 4, 4, 256)        1024      \n",
      " ormalization)                                                   \n",
      "                                                                 \n",
      " re_lu (ReLU)                (None, 4, 4, 256)         0         \n",
      "                                                                 \n",
      " conv2d_transpose_1 (Conv2DT  (None, 8, 8, 128)        295040    \n",
      " ranspose)                                                       \n",
      "                                                                 \n",
      " batch_normalization_1 (Batc  (None, 8, 8, 128)        512       \n",
      " hNormalization)                                                 \n",
      "                                                                 \n",
      " re_lu_1 (ReLU)              (None, 8, 8, 128)         0         \n",
      "                                                                 \n",
      " conv2d_transpose_2 (Conv2DT  (None, 16, 16, 64)       73792     \n",
      " ranspose)                                                       \n",
      "                                                                 \n",
      " batch_normalization_2 (Batc  (None, 16, 16, 64)       256       \n",
      " hNormalization)                                                 \n",
      "                                                                 \n",
      " re_lu_2 (ReLU)              (None, 16, 16, 64)        0         \n",
      "                                                                 \n",
      " conv2d_transpose_3 (Conv2DT  (None, 32, 32, 32)       18464     \n",
      " ranspose)                                                       \n",
      "                                                                 \n",
      " batch_normalization_3 (Batc  (None, 32, 32, 32)       128       \n",
      " hNormalization)                                                 \n",
      "                                                                 \n",
      " re_lu_3 (ReLU)              (None, 32, 32, 32)        0         \n",
      "                                                                 \n",
      " conv2d_transpose_4 (Conv2DT  (None, 64, 64, 3)        867       \n",
      " ranspose)                                                       \n",
      "                                                                 \n",
      " batch_normalization_4 (Batc  (None, 64, 64, 3)        12        \n",
      " hNormalization)                                                 \n",
      "                                                                 \n",
      " re_lu_4 (ReLU)              (None, 64, 64, 3)         0         \n",
      "                                                                 \n",
      "=================================================================\n",
      "Total params: 537,807\n",
      "Trainable params: 536,841\n",
      "Non-trainable params: 966\n",
      "_________________________________________________________________\n"
     ]
    }
   ],
   "source": [
    "decoder.summary()"
   ]
  },
  {
   "cell_type": "markdown",
   "metadata": {},
   "source": [
    "Compile Decoder\n",
    "="
   ]
  },
  {
   "cell_type": "code",
   "execution_count": 15,
   "metadata": {},
   "outputs": [],
   "source": [
    "decoder.compile(optimizer=Adam(learning_rate=0.009), loss=MeanSquaredLogarithmicError(),metrics='accuracy')\n"
   ]
  },
  {
   "cell_type": "markdown",
   "metadata": {},
   "source": [
    "Smething for Graph Execution\n",
    "="
   ]
  },
  {
   "cell_type": "code",
   "execution_count": null,
   "metadata": {},
   "outputs": [],
   "source": [
    "tf.config.experimental_run_functions_eagerly(True)\n"
   ]
  },
  {
   "cell_type": "markdown",
   "metadata": {},
   "source": [
    "Fitting Decoder\n",
    "="
   ]
  },
  {
   "cell_type": "code",
   "execution_count": 17,
   "metadata": {},
   "outputs": [
    {
     "name": "stderr",
     "output_type": "stream",
     "text": [
      "c:\\ProgramData\\anaconda3\\envs\\tensorflowgpu\\lib\\site-packages\\tensorflow\\python\\data\\ops\\structured_function.py:264: UserWarning: Even though the `tf.config.experimental_run_functions_eagerly` option is set, this option does not apply to tf.data functions. To force eager execution of tf.data functions, please use `tf.data.experimental.enable_debug_mode()`.\n",
      "  warnings.warn(\n"
     ]
    },
    {
     "name": "stdout",
     "output_type": "stream",
     "text": [
      "Epoch 1/20\n",
      "487/487 [==============================] - 23s 39ms/step - loss: 0.0177 - accuracy: 0.3829 - val_loss: 0.0304 - val_accuracy: 0.3117\n",
      "Epoch 2/20\n",
      "487/487 [==============================] - 20s 41ms/step - loss: 0.0093 - accuracy: 0.5152 - val_loss: 0.0309 - val_accuracy: 0.4352\n",
      "Epoch 3/20\n",
      "487/487 [==============================] - 20s 42ms/step - loss: 0.0085 - accuracy: 0.5930 - val_loss: 0.0308 - val_accuracy: 0.4243\n",
      "Epoch 4/20\n",
      "487/487 [==============================] - 22s 45ms/step - loss: 0.0080 - accuracy: 0.6430 - val_loss: 0.0343 - val_accuracy: 0.4402\n",
      "Epoch 5/20\n",
      "487/487 [==============================] - 20s 40ms/step - loss: 0.0077 - accuracy: 0.6528 - val_loss: 0.0312 - val_accuracy: 0.4290\n",
      "Epoch 6/20\n",
      "487/487 [==============================] - 22s 45ms/step - loss: 0.0076 - accuracy: 0.6588 - val_loss: 0.0319 - val_accuracy: 0.4486\n",
      "Epoch 7/20\n",
      "487/487 [==============================] - 18s 36ms/step - loss: 0.0074 - accuracy: 0.6629 - val_loss: 0.0330 - val_accuracy: 0.4528\n",
      "Epoch 8/20\n",
      "487/487 [==============================] - 22s 44ms/step - loss: 0.0075 - accuracy: 0.6628 - val_loss: 0.0333 - val_accuracy: 0.4404\n",
      "Epoch 9/20\n",
      "487/487 [==============================] - 21s 44ms/step - loss: 0.0074 - accuracy: 0.6655 - val_loss: 0.0347 - val_accuracy: 0.4420\n",
      "Epoch 10/20\n",
      "487/487 [==============================] - 22s 44ms/step - loss: 0.0073 - accuracy: 0.6694 - val_loss: 0.0326 - val_accuracy: 0.4195\n",
      "Epoch 11/20\n",
      "487/487 [==============================] - 19s 39ms/step - loss: 0.0073 - accuracy: 0.6686 - val_loss: 0.0313 - val_accuracy: 0.4220\n",
      "Epoch 12/20\n",
      "487/487 [==============================] - 22s 45ms/step - loss: 0.0071 - accuracy: 0.6706 - val_loss: 0.0319 - val_accuracy: 0.4304\n",
      "Epoch 13/20\n",
      "487/487 [==============================] - 20s 41ms/step - loss: 0.0071 - accuracy: 0.6735 - val_loss: 0.0339 - val_accuracy: 0.4349\n",
      "Epoch 14/20\n",
      "487/487 [==============================] - 21s 44ms/step - loss: 0.0070 - accuracy: 0.6748 - val_loss: 0.0325 - val_accuracy: 0.4160\n",
      "Epoch 15/20\n",
      "487/487 [==============================] - 16s 33ms/step - loss: 0.0069 - accuracy: 0.6753 - val_loss: 0.0318 - val_accuracy: 0.4305\n",
      "Epoch 16/20\n",
      "487/487 [==============================] - 13s 28ms/step - loss: 0.0069 - accuracy: 0.6755 - val_loss: 0.0323 - val_accuracy: 0.4405\n",
      "Epoch 17/20\n",
      "487/487 [==============================] - 22s 44ms/step - loss: 0.0069 - accuracy: 0.6777 - val_loss: 0.0329 - val_accuracy: 0.4377\n",
      "Epoch 18/20\n",
      "487/487 [==============================] - 22s 45ms/step - loss: 0.0068 - accuracy: 0.6756 - val_loss: 0.0327 - val_accuracy: 0.4403\n",
      "Epoch 19/20\n",
      "487/487 [==============================] - 21s 44ms/step - loss: 0.0068 - accuracy: 0.6787 - val_loss: 0.0311 - val_accuracy: 0.4453\n",
      "Epoch 20/20\n",
      "487/487 [==============================] - 18s 37ms/step - loss: 0.0068 - accuracy: 0.6791 - val_loss: 0.0323 - val_accuracy: 0.4321\n"
     ]
    },
    {
     "data": {
      "text/plain": [
       "<keras.callbacks.History at 0x1e9e0ff17e0>"
      ]
     },
     "execution_count": 17,
     "metadata": {},
     "output_type": "execute_result"
    }
   ],
   "source": [
    "decoder.fit(pca_train_codes, train_images, epochs=20, batch_size=32,validation_data=(pca_val_codes,val_images))"
   ]
  },
  {
   "cell_type": "markdown",
   "metadata": {},
   "source": [
    "Save Decoder\n",
    "="
   ]
  },
  {
   "cell_type": "code",
   "execution_count": null,
   "metadata": {},
   "outputs": [],
   "source": [
    "decoder.save('D:/MO3 LAP/GAN/assignment 3/models/Noised_PCA_decoder.h5')  "
   ]
  },
  {
   "cell_type": "markdown",
   "metadata": {},
   "source": [
    "Test Decoder\n",
    "="
   ]
  },
  {
   "cell_type": "code",
   "execution_count": null,
   "metadata": {},
   "outputs": [
    {
     "name": "stdout",
     "output_type": "stream",
     "text": [
      "487/487 [==============================] - 5s 11ms/step\n"
     ]
    }
   ],
   "source": [
    "image = train_images[1]\n",
    "noised_image = noisy_train_images[1]\n",
    "codes = pca_train_codes\n",
    "decoded_images = decoder.predict(codes)"
   ]
  },
  {
   "cell_type": "markdown",
   "metadata": {},
   "source": [
    "Plot Results\n",
    "="
   ]
  },
  {
   "cell_type": "code",
   "execution_count": null,
   "metadata": {},
   "outputs": [
    {
     "name": "stderr",
     "output_type": "stream",
     "text": [
      "Clipping input data to the valid range for imshow with RGB data ([0..1] for floats or [0..255] for integers).\n"
     ]
    },
    {
     "data": {
      "image/png": "[encoded data removed]",
      "text/plain": [
       "<Figure size 1500x500 with 3 Axes>"
      ]
     },
     "metadata": {},
     "output_type": "display_data"
    }
   ],
   "source": [
    "# Set the figure size\n",
    "plt.figure(figsize=(15, 5))  # Adjust the width and height as needed\n",
    "\n",
    "# Plot the first image\n",
    "plt.subplot(131)  # 1 row, 3 columns, first subplot\n",
    "plt.imshow(image)\n",
    "plt.title('original_image')\n",
    "\n",
    "# Plot the second image\n",
    "plt.subplot(132)  # 1 row, 3 columns, second subplot\n",
    "plt.imshow(noised_image)\n",
    "plt.title('noised_image')\n",
    "\n",
    "# Plot the third image\n",
    "plt.subplot(133)  # 1 row, 3 columns, third subplot\n",
    "plt.imshow(decoded_images[1])\n",
    "plt.title('decoded_image')\n",
    "\n",
    "# Adjust layout and show the plot\n",
    "plt.tight_layout()\n",
    "plt.show()\n"
   ]
  },
  {
   "cell_type": "markdown",
   "metadata": {},
   "source": [
    "-----\n",
    "Report\n",
    "==\n",
    "* training accuracy == 66%, validation accuracy == 45% , thats low accuracy compared to the normal AutoEncoder model\n",
    "* When visualizing results, our eyes can notice the difference."
   ]
  }
 ],
 "metadata": {
  "kernelspec": {
   "display_name": "tensorflowgpu",
   "language": "python",
   "name": "python3"
  },
  "language_info": {
   "codemirror_mode": {
    "name": "ipython",
    "version": 3
   },
   "file_extension": ".py",
   "mimetype": "text/x-python",
   "name": "python",
   "nbconvert_exporter": "python",
   "pygments_lexer": "ipython3",
   "version": "3.10.13"
  }
 },
 "nbformat": 4,
 "nbformat_minor": 2
}
