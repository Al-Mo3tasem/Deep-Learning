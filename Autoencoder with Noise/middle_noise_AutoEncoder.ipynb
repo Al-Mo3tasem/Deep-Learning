{
 "cells": [
  {
   "cell_type": "markdown",
   "metadata": {},
   "source": [
    "Libraries\n",
    "="
   ]
  },
  {
   "cell_type": "code",
   "execution_count": 2,
   "metadata": {},
   "outputs": [],
   "source": [
    "from tensorflow.keras.preprocessing.image import ImageDataGenerator\n",
    "import numpy as np\n",
    "import matplotlib.pyplot as plt\n",
    "from tensorflow.keras.layers import Input, Conv2D, Conv2DTranspose, BatchNormalization, ReLU\n",
    "from tensorflow.keras.models import Model\n",
    "from tensorflow.keras.optimizers import Adam,SGD\n",
    "from tensorflow.keras.losses import MeanSquaredLogarithmicError\n",
    "from tensorflow.keras.models import load_model\n"
   ]
  },
  {
   "cell_type": "markdown",
   "metadata": {},
   "source": [
    "Data Loader\n",
    "="
   ]
  },
  {
   "cell_type": "code",
   "execution_count": 2,
   "metadata": {},
   "outputs": [
    {
     "name": "stdout",
     "output_type": "stream",
     "text": [
      "Found 84635 images belonging to 525 classes.\n",
      "Found 2625 images belonging to 525 classes.\n",
      "Found 2625 images belonging to 525 classes.\n"
     ]
    }
   ],
   "source": [
    "datagen = ImageDataGenerator(rescale=1./255)\n",
    "\n",
    "batch_size = 32\n",
    "\n",
    "train_generator = datagen.flow_from_directory(\n",
    "    'D:/MO3 LAP/Datasets/Birds_525_Species/train',\n",
    "    target_size=(64, 64),\n",
    "    batch_size=batch_size,\n",
    "    class_mode='input'  #input means that the targets are images identical to input images\n",
    ")\n",
    "\n",
    "validation_generator = datagen.flow_from_directory(\n",
    "    'D:/MO3 LAP/Datasets/Birds_525_Species/valid',\n",
    "    target_size=(64, 64),\n",
    "    batch_size=batch_size,\n",
    "    class_mode='input'\n",
    ")\n",
    "test_generator = datagen.flow_from_directory(\n",
    "    'D:/MO3 LAP/Datasets/Birds_525_Species/test'  ,\n",
    "    target_size=(64, 64),\n",
    "    batch_size=batch_size,\n",
    "    class_mode='input'\n",
    ")"
   ]
  },
  {
   "cell_type": "markdown",
   "metadata": {},
   "source": [
    "Define AutoEncoder\n",
    "="
   ]
  },
  {
   "cell_type": "code",
   "execution_count": 4,
   "metadata": {},
   "outputs": [],
   "source": [
    "# Define convolutional block\n",
    "def conv_block(x, filters, kernel_size, strides=2):\n",
    "    x = Conv2D(filters=filters, kernel_size=kernel_size, strides=strides, padding='same')(x)\n",
    "    x = BatchNormalization()(x)\n",
    "    x = ReLU()(x)\n",
    "    return x\n",
    "\n",
    "# Define deconvolutional block\n",
    "def deconv_block(x, filters, kernel_size):\n",
    "    x = Conv2DTranspose(filters=filters, kernel_size=kernel_size, strides=2, padding='same')(x)\n",
    "    x = BatchNormalization()(x)\n",
    "    x = ReLU()(x)\n",
    "    return x\n",
    "\n",
    "# Define the encoder\n",
    "def build_encoder(input_shape):\n",
    "    inputs = Input(shape=input_shape)\n",
    "\n",
    "    x = conv_block(inputs, 32, 3)\n",
    "    x = conv_block(x, 64, 3)\n",
    "    x = conv_block(x, 128, 3)\n",
    "    x = conv_block(x, 256, 3)\n",
    "    #x = conv_block(x, 512, 3)  # Additional layer\n",
    "    #x = conv_block(x, 3, 3)  # Additional layer\n",
    "\n",
    "    return Model(inputs, x, name='encoder')\n",
    "\n",
    "# Define the decoder\n",
    "def build_decoder(output_shape):\n",
    "    inputs = Input(shape=output_shape)\n",
    "\n",
    "    #x = deconv_block(inputs, 512, 3)  # Additional layer\n",
    "    #x = deconv_block(inputs, 256, 3)  # Additional layer\n",
    "    x = deconv_block(inputs, 128, 3)\n",
    "    x = deconv_block(x, 64, 3)\n",
    "    x = deconv_block(x, 32, 3)\n",
    "    x = deconv_block(x, 3, 3)  # 3 channels for RGB images\n",
    "\n",
    "    return Model(inputs, x, name='decoder')\n",
    "\n",
    "# Define the autoencoder\n",
    "def build_autoencoder(input_shape):\n",
    "    encoder = build_encoder(input_shape)\n",
    "    decoder = build_decoder(encoder.output_shape[1:])\n",
    "\n",
    "    inputs = Input(shape=input_shape)\n",
    "\n",
    "    encoded = encoder(inputs)\n",
    "    decoded = decoder(encoded)\n",
    "\n",
    "    autoencoder = Model(inputs, decoded, name='autoencoder')\n",
    "    return encoder,decoder,autoencoder\n"
   ]
  },
  {
   "cell_type": "markdown",
   "metadata": {},
   "source": [
    "Some parameters\n",
    "="
   ]
  },
  {
   "cell_type": "code",
   "execution_count": 5,
   "metadata": {},
   "outputs": [],
   "source": [
    "num_train_images = 84635  \n",
    "batch_size = 32\n",
    "steps_per_epoch = num_train_images // batch_size"
   ]
  },
  {
   "cell_type": "markdown",
   "metadata": {},
   "source": [
    "Train AutoEncoder\n",
    "="
   ]
  },
  {
   "cell_type": "code",
   "execution_count": 8,
   "metadata": {},
   "outputs": [
    {
     "name": "stdout",
     "output_type": "stream",
     "text": [
      "Epoch 1/10\n",
      "2644/2644 [==============================] - 87s 33ms/step - loss: 0.0074 - accuracy: 0.6388 - val_loss: 0.0046 - val_accuracy: 0.7977\n",
      "Epoch 2/10\n",
      "2644/2644 [==============================] - 40s 15ms/step - loss: 0.0043 - accuracy: 0.7698 - val_loss: 0.0046 - val_accuracy: 0.7605\n",
      "Epoch 3/10\n",
      "2644/2644 [==============================] - 40s 15ms/step - loss: 0.0037 - accuracy: 0.7828 - val_loss: 0.0033 - val_accuracy: 0.8129\n",
      "Epoch 4/10\n",
      "2644/2644 [==============================] - 40s 15ms/step - loss: 0.0034 - accuracy: 0.7956 - val_loss: 0.0034 - val_accuracy: 0.8167\n",
      "Epoch 5/10\n",
      "2644/2644 [==============================] - 39s 15ms/step - loss: 0.0031 - accuracy: 0.7986 - val_loss: 0.0033 - val_accuracy: 0.7911\n",
      "Epoch 6/10\n",
      "2644/2644 [==============================] - 39s 15ms/step - loss: 0.0029 - accuracy: 0.8032 - val_loss: 0.0028 - val_accuracy: 0.8106\n",
      "Epoch 7/10\n",
      "2644/2644 [==============================] - 40s 15ms/step - loss: 0.0027 - accuracy: 0.8064 - val_loss: 0.0025 - val_accuracy: 0.8366\n",
      "Epoch 8/10\n",
      "2644/2644 [==============================] - 40s 15ms/step - loss: 0.0026 - accuracy: 0.8077 - val_loss: 0.0028 - val_accuracy: 0.8032\n",
      "Epoch 9/10\n",
      "2644/2644 [==============================] - 40s 15ms/step - loss: 0.0025 - accuracy: 0.8098 - val_loss: 0.0027 - val_accuracy: 0.8279\n",
      "Epoch 10/10\n",
      "2644/2644 [==============================] - 40s 15ms/step - loss: 0.0024 - accuracy: 0.8108 - val_loss: 0.0023 - val_accuracy: 0.8249\n"
     ]
    },
    {
     "data": {
      "text/plain": [
       "<keras.callbacks.History at 0x23d54d36d70>"
      ]
     },
     "execution_count": 8,
     "metadata": {},
     "output_type": "execute_result"
    }
   ],
   "source": [
    "input_shape = (64, 64, 3)  \n",
    "clean_encoder,clean_decoder,clean_autoencoder = build_autoencoder(input_shape)\n",
    "clean_autoencoder.compile(optimizer=Adam(learning_rate=0.009), loss=MeanSquaredLogarithmicError(),metrics='accuracy')\n",
    "clean_autoencoder.fit(train_generator, epochs=10, steps_per_epoch=steps_per_epoch, validation_data=validation_generator, validation_steps=70)"
   ]
  },
  {
   "cell_type": "markdown",
   "metadata": {},
   "source": [
    "Save AutoEncoder\n",
    "="
   ]
  },
  {
   "cell_type": "code",
   "execution_count": 9,
   "metadata": {},
   "outputs": [],
   "source": [
    "clean_autoencoder.save('D:/MO3 LAP/GAN/assignment 3/models/clean_autoencoder.h5')  "
   ]
  },
  {
   "cell_type": "markdown",
   "metadata": {},
   "source": [
    "AutoEncoder summary\n",
    "="
   ]
  },
  {
   "cell_type": "code",
   "execution_count": 10,
   "metadata": {},
   "outputs": [
    {
     "name": "stdout",
     "output_type": "stream",
     "text": [
      "Model: \"autoencoder\"\n",
      "_________________________________________________________________\n",
      " Layer (type)                Output Shape              Param #   \n",
      "=================================================================\n",
      " input_6 (InputLayer)        [(None, 64, 64, 3)]       0         \n",
      "                                                                 \n",
      " encoder (Functional)        (None, 4, 4, 256)         390336    \n",
      "                                                                 \n",
      " decoder (Functional)        (None, 64, 64, 3)         389071    \n",
      "                                                                 \n",
      "=================================================================\n",
      "Total params: 779,407\n",
      "Trainable params: 777,993\n",
      "Non-trainable params: 1,414\n",
      "_________________________________________________________________\n"
     ]
    }
   ],
   "source": [
    "clean_autoencoder.summary()"
   ]
  },
  {
   "cell_type": "markdown",
   "metadata": {},
   "source": [
    "Load the AutoEncoder and get the Encoder and Decoder parts\n",
    "="
   ]
  },
  {
   "cell_type": "code",
   "execution_count": 6,
   "metadata": {},
   "outputs": [],
   "source": [
    "autoencoder = load_model('D:/MO3 LAP/GAN/assignment 3/models/clean_autoencoder.h5')\n",
    "\n",
    "\n",
    "encoder = autoencoder.get_layer('encoder')\n",
    "decoder = autoencoder.get_layer('decoder')\n"
   ]
  },
  {
   "cell_type": "markdown",
   "metadata": {},
   "source": [
    "Save Decoder \n",
    "="
   ]
  },
  {
   "cell_type": "code",
   "execution_count": 18,
   "metadata": {},
   "outputs": [],
   "source": [
    "decoder.save('D:/MO3 LAP/GAN/assignment 3/models/decoder.h5')  "
   ]
  },
  {
   "cell_type": "markdown",
   "metadata": {},
   "source": [
    "Load Decoder\n",
    "="
   ]
  },
  {
   "cell_type": "code",
   "execution_count": 3,
   "metadata": {},
   "outputs": [],
   "source": [
    "decoder = load_model('D:/MO3 LAP/GAN/assignment 3/models/decoder.h5')"
   ]
  },
  {
   "cell_type": "markdown",
   "metadata": {},
   "source": [
    "Data Loaders\n",
    "="
   ]
  },
  {
   "cell_type": "code",
   "execution_count": 4,
   "metadata": {},
   "outputs": [
    {
     "name": "stdout",
     "output_type": "stream",
     "text": [
      "Found 84635 images belonging to 525 classes.\n",
      "Found 2625 images belonging to 525 classes.\n",
      "Found 2625 images belonging to 525 classes.\n"
     ]
    }
   ],
   "source": [
    "train_dir = 'D:/MO3 LAP/Datasets/Birds_525_Species/train'\n",
    "test_dir = 'D:/MO3 LAP/Datasets/Birds_525_Species/test'  \n",
    "val_dir = 'D:/MO3 LAP/Datasets/Birds_525_Species/valid'\n",
    "\n",
    "train_datagen = ImageDataGenerator(rescale=1./255)\n",
    "test_datagen = ImageDataGenerator(rescale=1./255)\n",
    "validation_datagen = ImageDataGenerator(rescale=1./255)\n",
    "\n",
    "train_generator = train_datagen.flow_from_directory(train_dir, target_size=(64, 64), batch_size=20, class_mode='input')\n",
    "test_generator = test_datagen.flow_from_directory(test_dir, target_size=(64, 64), batch_size=20, class_mode='input')\n",
    "validation_generator = validation_datagen.flow_from_directory(val_dir, target_size=(64, 64), batch_size=20, class_mode='input')"
   ]
  },
  {
   "cell_type": "markdown",
   "metadata": {},
   "source": [
    "Train Decoder on noised codes\n",
    "="
   ]
  },
  {
   "cell_type": "code",
   "execution_count": null,
   "metadata": {},
   "outputs": [],
   "source": [
    "epochs = 15\n",
    "noise_factor=0.5\n",
    "\n",
    "for epoch in range(epochs):\n",
    "    for i in range(len(train_generator)):\n",
    "        \n",
    "        batch_images = next(train_generator)[0]\n",
    "        \n",
    "        noisy_encoded_batch_images = encoder.predict(batch_images)\n",
    "        \n",
    "        noisy_encoded_batch_images += noise_factor * np.random.normal(loc=0.0, scale=1.0, size=noisy_encoded_batch_images.shape)\n",
    "\n",
    "        \n",
    "        decoder.train_on_batch(noisy_encoded_batch_images, batch_images)"
   ]
  },
  {
   "cell_type": "markdown",
   "metadata": {},
   "source": [
    "Save Decoder again\n",
    "="
   ]
  },
  {
   "cell_type": "code",
   "execution_count": 24,
   "metadata": {},
   "outputs": [],
   "source": [
    "decoder.save('D:/MO3 LAP/GAN/assignment 3/models/decoder.h5')  "
   ]
  },
  {
   "cell_type": "markdown",
   "metadata": {},
   "source": [
    "Test Decoder\n",
    "="
   ]
  },
  {
   "cell_type": "code",
   "execution_count": 8,
   "metadata": {},
   "outputs": [
    {
     "name": "stdout",
     "output_type": "stream",
     "text": [
      "1/1 [==============================] - 0s 46ms/step\n",
      "1/1 [==============================] - 0s 81ms/step\n"
     ]
    }
   ],
   "source": [
    "noisy_images,original_images = next(test_generator)\n",
    "encoded_images = encoder.predict(original_images)\n",
    "encoded_images += noise_factor * np.random.normal(loc=0.0, scale=1.0, size=noisy_encoded_batch_images.shape)\n",
    "decoded_images = decoder.predict(encoded_images)"
   ]
  },
  {
   "cell_type": "markdown",
   "metadata": {},
   "source": [
    "Plot results\n",
    "="
   ]
  },
  {
   "cell_type": "code",
   "execution_count": 18,
   "metadata": {},
   "outputs": [
    {
     "name": "stderr",
     "output_type": "stream",
     "text": [
      "Clipping input data to the valid range for imshow with RGB data ([0..1] for floats or [0..255] for integers).\n"
     ]
    },
    {
     "data": {
      "image/png": "[encoded data removed]",
      "text/plain": [
       "<Figure size 1500x500 with 2 Axes>"
      ]
     },
     "metadata": {},
     "output_type": "display_data"
    }
   ],
   "source": [
    "\n",
    "# Set the figure size\n",
    "plt.figure(figsize=(15, 5))  # Adjust the width and height as needed\n",
    "\n",
    "# Plot the first image\n",
    "plt.subplot(121)  # 1 row, 3 columns, first subplot\n",
    "plt.imshow(original_images[9])\n",
    "plt.title('original_image')\n",
    "\n",
    "# Plot the second image\n",
    "plt.subplot(122)  # 1 row, 3 columns, third subplot\n",
    "plt.imshow(decoded_images[9])\n",
    "plt.title('decoded_image')\n",
    "\n",
    "# Adjust layout and show the plot\n",
    "plt.tight_layout()\n",
    "plt.show()\n"
   ]
  },
  {
   "cell_type": "markdown",
   "metadata": {},
   "source": [
    "-----\n",
    "Report\n",
    "==\n",
    "* I noticed that when adding noise to the input and let both **Encoder & Decoder** train to denoise is often better than noising the code and ask **only** the Decoder to densise and decode it "
   ]
  },
  {
   "cell_type": "markdown",
   "metadata": {},
   "source": []
  }
 ],
 "metadata": {
  "kernelspec": {
   "display_name": "Python 3",
   "language": "python",
   "name": "python3"
  },
  "language_info": {
   "codemirror_mode": {
    "name": "ipython",
    "version": 3
   },
   "file_extension": ".py",
   "mimetype": "text/x-python",
   "name": "python",
   "nbconvert_exporter": "python",
   "pygments_lexer": "ipython3",
   "version": "3.10.13"
  }
 },
 "nbformat": 4,
 "nbformat_minor": 2
}
